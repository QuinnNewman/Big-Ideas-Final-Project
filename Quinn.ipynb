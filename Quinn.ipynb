{
 "cells": [
  {
   "cell_type": "markdown",
   "metadata": {},
   "source": [
    "Quinns notebook"
   ]
  },
  {
   "cell_type": "markdown",
   "metadata": {},
   "source": [
    "**Introduction**\n",
    "\n",
    "Our project is to figure out which is the best neighborhood in Pittsburgh... for rats. My approach is to find which neighborhood is the best for rats by analysising the amount of condemned or dead-end properties in each area, and then factoring in the properties' inspection score into our rating. The reasoning behind this is that if there are alot of condemned buildings that recieved bad inspection scores in a neighborhood, then that area has alot of unkept buildings that are probably run down and trashy. Perfect for rats. Additionaly, if there are lots of condemned buildings in general, that means there would be plently of space for the rats to live in peace."
   ]
  },
  {
   "cell_type": "markdown",
   "metadata": {},
   "source": [
    "**The Metric**\n",
    "\n",
    "My metric is the amount of condemned properties per neighborhood, weighted by the inspection scores of each property.\n",
    "\n",
    "A link to my dataset can be found here: https://data.wprdc.org/dataset/condemned-properties/resource/0a963f26-eb4b-4325-bbbc-3ddf6a871410"
   ]
  },
  {
   "cell_type": "markdown",
   "metadata": {},
   "source": [
    "**The Best Neighborhood**"
   ]
  },
  {
   "cell_type": "markdown",
   "metadata": {},
   "source": [
    "First lets import pandas to help with our data and pull in our data."
   ]
  },
  {
   "cell_type": "code",
   "execution_count": 3,
   "metadata": {},
   "outputs": [],
   "source": [
    "import pandas as pd\n",
    "data = pd.read_csv('Condemned.tsv', delimiter='\\t')"
   ]
  },
  {
   "cell_type": "markdown",
   "metadata": {},
   "source": [
    "Now we will pull out the zip codes from every row in the \"Address\" column. This is so that we can find how many condemned or dead end properties exist in each neighborhood by zip code. The higher number of these properties in one neighborhood, the more places there are to live as a rat."
   ]
  },
  {
   "cell_type": "code",
   "execution_count": 4,
   "metadata": {},
   "outputs": [
    {
     "name": "stdout",
     "output_type": "stream",
     "text": [
      "Zip Code\n",
      "15210    537\n",
      "15212    411\n",
      "15208    291\n",
      "15219    283\n",
      "15206    250\n",
      "15214    204\n",
      "15207    199\n",
      "15204    134\n",
      "15220     83\n",
      "15224     82\n",
      "15221     80\n",
      "15233     70\n",
      "15203     65\n",
      "15211     57\n",
      "15201     56\n",
      "15216     41\n",
      "15213     41\n",
      "15205     37\n",
      "15226     36\n",
      "15217     33\n",
      "15227     17\n",
      "15235     16\n",
      "15222      7\n",
      "15234      4\n",
      "15232      3\n",
      "15120      2\n",
      "15218      1\n",
      "15106      1\n",
      "dtype: int64\n"
     ]
    }
   ],
   "source": [
    "data['Zip Code'] = data['address'].str.extract(r'(\\d{5})$')\n",
    "property_count = data.groupby('Zip Code').size().sort_values(ascending=False)\n",
    "print(property_count)"
   ]
  },
  {
   "cell_type": "markdown",
   "metadata": {},
   "source": [
    "Now that we've displayed how many condemned or dead-end properties there are in each neighborhood, I will print the names of the top 5 for display.\n",
    "\n",
    "1. St. Clair - 537 condemned properties\n",
    "2. Perry South - 411 condemned properties\n",
    "3. North Point Breeze - 291 condemned properties\n",
    "4. Central Business District - 283 condemned properties\n",
    "5. Larimer - 250 condemned properties"
   ]
  },
  {
   "cell_type": "markdown",
   "metadata": {},
   "source": [
    "We could go ahead and conclude that these are top 5 best neighborhoods for a rat looking to move into Pittsburgh, but just because there are many homes in these areas, doesn't mean that they are high value homes. A rat would want only the finest and most disgusting place to settle down. So, we will now take the inspection score of each property into account.\n",
    "\n",
    "As listed on the data sheet, \"A score of 0 indicates that the property passed inspection. Higher integer values indicate the severity of a failed inspection.\" Therefore, we will be adding up the inspection scores of all properties in each zip code, and then sorting them from highest total score to lowest. This is a significant statistic because if an area has a lot of closed buildings, but they are all passing inspections, then the buildings may not be as suitable for a rat looking for some disgusting corner to camp in. \n",
    "\n",
    "One thing to note is that not every property in the dataset received a score, therefore those properties will simply be counted as 0.\n"
   ]
  },
  {
   "cell_type": "code",
   "execution_count": 5,
   "metadata": {},
   "outputs": [
    {
     "name": "stdout",
     "output_type": "stream",
     "text": [
      "Zip Code\n",
      "15210    866\n",
      "15212    555\n",
      "15219    437\n",
      "15208    372\n",
      "15206    303\n",
      "15214    291\n",
      "15207    224\n",
      "15233    194\n",
      "15204    131\n",
      "15224    124\n",
      "15201    104\n",
      "15221     90\n",
      "15220     85\n",
      "15203     80\n",
      "15211     48\n",
      "15216     47\n",
      "15213     44\n",
      "15205     40\n",
      "15235     26\n",
      "15217     20\n",
      "15226     17\n",
      "15227     11\n",
      "15222     10\n",
      "15234      4\n",
      "15120      2\n",
      "15106      2\n",
      "15232      1\n",
      "15218      0\n",
      "Name: latest_inspection_score, dtype: int64\n"
     ]
    }
   ],
   "source": [
    "data['latest_inspection_score'] = pd.to_numeric(data['latest_inspection_score'].replace('none', '0'), errors='coerce').fillna(0)\n",
    "\n",
    "total_scores = data.groupby('Zip Code')['latest_inspection_score'].sum()\n",
    "total_scores = total_scores.astype(int)\n",
    "\n",
    "sorted_scores = total_scores.sort_values(ascending=False)\n",
    "\n",
    "print(sorted_scores)"
   ]
  },
  {
   "cell_type": "markdown",
   "metadata": {},
   "source": [
    "We can now see that the ranking didn't change by a whole lot. Let's run some code to check why that may be."
   ]
  },
  {
   "cell_type": "code",
   "execution_count": 6,
   "metadata": {},
   "outputs": [
    {
     "name": "stdout",
     "output_type": "stream",
     "text": [
      "0.0     1567\n",
      "1.0      991\n",
      "2.0      937\n",
      "3.0      194\n",
      "4.0       42\n",
      "6.0        2\n",
      "7.0        4\n",
      "8.0        3\n",
      "9.0        3\n",
      "10.0       4\n",
      "11.0       4\n",
      "12.0       9\n",
      "13.0       2\n",
      "14.0       3\n",
      "15.0       6\n",
      "16.0       1\n",
      "17.0       1\n",
      "18.0       3\n",
      "19.0       1\n",
      "20.0       1\n",
      "21.0       2\n",
      "22.0       1\n",
      "23.0       2\n",
      "24.0       1\n",
      "25.0       2\n",
      "26.0       1\n",
      "27.0       2\n",
      "28.0       2\n",
      "29.0       4\n",
      "31.0       2\n",
      "32.0       3\n",
      "33.0       2\n",
      "34.0       2\n",
      "36.0       5\n",
      "37.0       2\n",
      "38.0       2\n",
      "39.0       1\n",
      "40.0       3\n",
      "42.0       1\n",
      "43.0       1\n",
      "44.0       3\n",
      "45.0       1\n",
      "46.0       1\n",
      "49.0       2\n",
      "50.0       1\n",
      "Name: latest_inspection_score, dtype: int64\n"
     ]
    }
   ],
   "source": [
    "score_counts = data['latest_inspection_score'].value_counts().sort_index()\n",
    "print(score_counts)"
   ]
  },
  {
   "cell_type": "markdown",
   "metadata": {},
   "source": [
    "Now we can see why the data didn't seem to change in ranking much. With few outliers compared to the amount of 0s, 1s, 2s, and 3s, it makes sense that the neighborhoods with significantly more properties would still have a much higher total inspection score value.\n",
    "\n",
    "However, even if this data is not significant enough to make a conclusion yet, this is a vital piece of the puzzle needed to find our final metric.\n",
    "\n",
    "To finish our data analysis, we will need to find a ratio between the amount of properties and the total inspection scores that determines which neighborhood would be best for a rat. \n",
    "\n",
    "To do that, we will take the average score of the properties in each neighborhood, but there is one thing we will need to take into account. Specifically, if we are going to use the average, we need to make sure that neighborhoods with few properties in general are removed from our list. This is because we cant decide that a neighborhood is the best just because it has 5 really bad properties in the whole area. The rats need places to live, and for that reason I've decided that any neighborhoods with less than 75 condemned properties are not eligible to be considered the best."
   ]
  },
  {
   "cell_type": "code",
   "execution_count": 10,
   "metadata": {},
   "outputs": [
    {
     "name": "stdout",
     "output_type": "stream",
     "text": [
      "          Total Score  Property Count  Average Score\n",
      "Zip Code                                            \n",
      "15210           866.0             537       1.612663\n",
      "15219           437.0             283       1.544170\n",
      "15224           124.0              82       1.512195\n",
      "15214           291.0             204       1.426471\n",
      "15212           555.0             411       1.350365\n",
      "15208           372.0             291       1.278351\n",
      "15206           303.0             250       1.212000\n",
      "15207           224.0             199       1.125628\n",
      "15221            90.0              80       1.125000\n",
      "15220            85.0              83       1.024096\n",
      "15204           131.0             134       0.977612\n"
     ]
    }
   ],
   "source": [
    "total_scores = data.groupby('Zip Code')['latest_inspection_score'].sum()\n",
    "property_count = data.groupby('Zip Code').size().sort_values(ascending=False)\n",
    "\n",
    "zip_analysis = pd.DataFrame({\n",
    "    'Total Score': total_scores,\n",
    "    'Property Count': property_count\n",
    "})\n",
    "\n",
    "min_properties = 75\n",
    "zip_analysis = zip_analysis[zip_analysis['Property Count'] >= min_properties]\n",
    "\n",
    "zip_analysis['Average Score'] = zip_analysis['Total Score'] / zip_analysis['Property Count']\n",
    "\n",
    "worst_zip = zip_analysis.sort_values(by='Average Score', ascending=False)\n",
    "print(worst_zip)"
   ]
  },
  {
   "cell_type": "markdown",
   "metadata": {},
   "source": [
    "And here we have it. The top 11 best neighborhoods to live in as a rat are:\n",
    "\n",
    "1. St. Clair \n",
    "2. Central Business District\n",
    "3. Bloomfield\n",
    "4. Perry North\n",
    "5. Perry South\n",
    "6. North Point Breeze\n",
    "7. Larimer\n",
    "8. Hazelwood\n",
    "9. Wilkinsburgh\n",
    "10. Elliot\n",
    "11. Sheraden\n",
    "\n",
    "I picked this to be our metric over the total properties or score because a rat doesn't exactly have realtors telling them which available home is the best for them to live in. Therefore, under the assumption that a rat may choose a random condemned or dead-end property to live in, the most rat friendly neighborhood would be the one with the highest average inspection scores.\n",
    "\n",
    "To conclude, the best neighborhood to live in, as a rat, is St. Clair (15210). They have the highest inspection score of 1.6, and they have the most condemned or dead-end properties in general, with 537 properties."
   ]
  },
  {
   "cell_type": "code",
   "execution_count": null,
   "metadata": {},
   "outputs": [],
   "source": []
  }
 ],
 "metadata": {
  "kernelspec": {
   "display_name": "Python 3",
   "language": "python",
   "name": "python3"
  },
  "language_info": {
   "codemirror_mode": {
    "name": "ipython",
    "version": 3
   },
   "file_extension": ".py",
   "mimetype": "text/x-python",
   "name": "python",
   "nbconvert_exporter": "python",
   "pygments_lexer": "ipython3",
   "version": "3.8.3"
  }
 },
 "nbformat": 4,
 "nbformat_minor": 4
}
