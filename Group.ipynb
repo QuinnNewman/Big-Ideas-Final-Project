{
 "cells": [
  {
   "cell_type": "markdown",
   "metadata": {},
   "source": [
    "Final Project Group 50"
   ]
  },
  {
   "cell_type": "markdown",
   "metadata": {},
   "source": [
    "**Introduction**\n",
    "\n",
    "In this project, we will be determining the best neighborhood in pittsburgh... for rats. This means that many things such as run down properties or health code violations, will be positive things to look for in our ideal neighborhood. Right from the start we decided to go with this metric, as it provides a unique and fun take on what is considered the \"best neighborhood\", we didn't even consider anything else. \n",
    "\n",
    "**The Metric**\n",
    "\n",
    "Now, what qualifies a neighborhood to be more rat friendly than the others? We decided on 3 things: The amount/quality of condemned or dead-end properties in the area, the amount of pest code violations, and the amount of dog licenses in each neighborhood. Here are the links to the datasets that we are using:\n",
    "\n",
    "- Condemned/Dead-end Properties: https://data.wprdc.org/dataset/condemned-properties/resource/0a963f26-eb4b-4325-bbbc-3ddf6a871410\n",
    "\n",
    "- Health Code Violations: https://data.wprdc.org/dataset/allegheny-county-restaurant-food-facility-inspection-violations/resource/1a1329e2-418c-4bd3-af2c-cc334e7559af\n",
    "\n",
    "- Dog Licenses in Area: https://data.wprdc.org/dataset/allegheny-county-dog-licenses/resource/ecedb5a4-4e9d-469b-8cde-2673ee48c482\n",
    "\n",
    "We chose these metrics because they represent 3 very important aspects of life for a rat. First, rats need shelter to live in and be safe. An area with many trashy properties would provide plenty of shelter for the rats to live in. Second, rats need to be able to eat food and thrive. Therefore, analyzing the amount of pest related health code violations in the local restaurants will show us where rats can live to easily grab a bite to eat. Lastly, rats need to live safely. That's why we will also be taking the amount of dog licenses into account, so we can find the best neighborhood where rats won't have to worry about being snatched up or eaten when they let their guard down. Overall, our approach to find the best possible neighborhood for rats will be whichever neighborhood has the highest average ranking between our 3 important sub-metrics. Let's begin!\n",
    "\n"
   ]
  },
  {
   "cell_type": "markdown",
   "metadata": {},
   "source": [
    "**Submetric 1: Shelter**\n",
    "\n",
    "In order to figure out which neighborhood has the best places to live for rats, we will need to find a ratio between the amount of condemned/dead-end properties and the total inspection scores which rate the severity of the property's health violation.\n",
    "\n",
    "To do that, we will find the average inspection score of the condemned properties in each neighborhood, but there is one thing we will need to take into account. Specifically, if we are going to use the average, we need to make sure that neighborhoods with few properties in general are removed from our list. This is because we can't decide that a neighborhood is the best just because it has 5 really bad properties in the whole area. The rats need places to live, and for that reason, any neighborhoods with less than 75 condemned properties are not eligible to be considered the best."
   ]
  },
  {
   "cell_type": "code",
   "execution_count": 6,
   "metadata": {},
   "outputs": [
    {
     "name": "stdout",
     "output_type": "stream",
     "text": [
      "          Total Score  Property Count  Average Score\n",
      "Zip Code                                            \n",
      "15210           866.0             537       1.612663\n",
      "15219           437.0             283       1.544170\n",
      "15224           124.0              82       1.512195\n",
      "15214           291.0             204       1.426471\n",
      "15212           555.0             411       1.350365\n",
      "15208           372.0             291       1.278351\n",
      "15206           303.0             250       1.212000\n",
      "15207           224.0             199       1.125628\n",
      "15221            90.0              80       1.125000\n",
      "15220            85.0              83       1.024096\n",
      "15204           131.0             134       0.977612\n"
     ]
    }
   ],
   "source": [
    "import pandas as pd\n",
    "data = pd.read_csv('Condemned.tsv', delimiter='\\t')\n",
    "data['Zip Code'] = data['address'].str.extract(r'(\\d{5})$')\n",
    "\n",
    "total_scores = data.groupby('Zip Code')['latest_inspection_score'].sum()\n",
    "property_count = data.groupby('Zip Code').size().sort_values(ascending=False)\n",
    "\n",
    "zip_analysis = pd.DataFrame({\n",
    "    'Total Score': total_scores,\n",
    "    'Property Count': property_count\n",
    "})\n",
    "\n",
    "min_properties = 75\n",
    "zip_analysis = zip_analysis[zip_analysis['Property Count'] >= min_properties]\n",
    "\n",
    "zip_analysis['Average Score'] = zip_analysis['Total Score'] / zip_analysis['Property Count']\n",
    "\n",
    "worst_zip = zip_analysis.sort_values(by='Average Score', ascending=False)\n",
    "print(worst_zip)"
   ]
  },
  {
   "cell_type": "markdown",
   "metadata": {},
   "source": [
    "And here we have it. The top 11 neighborhoods with the best shelter for rats are as follows:\n",
    "\n",
    "1. St. Clair \n",
    "2. Central Business District\n",
    "3. Bloomfield\n",
    "4. Perry North\n",
    "5. Perry South\n",
    "6. North Point Breeze\n",
    "7. Larimer\n",
    "8. Hazelwood\n",
    "9. Wilkinsburgh\n",
    "10. Elliot\n",
    "11. Sheraden\n",
    "\n",
    "The reason that we used the average inspection score as our submetric over other important metrics such as the total properties or the total inspection scores, is because a rat does not  have realtors telling them which available home is the best for them to live in. Therefore, under the assumption that a rat may choose a random condemned or dead-end property to live in, the most rat friendly neighborhood would be the one with the highest average inspection scores.\n",
    "\n",
    "To conclude, the neighborhood with the best shelter options for a rat to live in, is St. Clair (15210). They have the highest average inspection score of 1.6, and they also have the most places to live in general, with 537 condemned or dead-end properties."
   ]
  },
  {
   "cell_type": "markdown",
   "metadata": {},
   "source": [
    "**Submetric 2: Places to eat**\n",
    "\n",
    "To find out which neighborhood has the best eats for rats we're gonna have to take a look into which neighborhood has the most food facilities with pest related health code violations.\n",
    "\n",
    "To do this we will have to filter data from all the food facilities in the greater Pittsburgh area. Thankfully there is a database containing every health code violation for every food facility in the greater Pittsburgh area. This will make the process easy for us, all we have to do is filter the data by pest related violations in the year 2024 then group by zip code. From there we can determine which zip code has the most facilities with pest related violations.\n"
   ]
  },
  {
   "cell_type": "code",
   "execution_count": 4,
   "metadata": {},
   "outputs": [
    {
     "name": "stdout",
     "output_type": "stream",
     "text": [
      "The zip code with the most facilities with pest violations is 15037 with 2 facilities.\n"
     ]
    }
   ],
   "source": [
    "import pandas as pd\n",
    "data = pd.read_csv(\"rats.csv\")\n",
    "\n",
    "#convert date column to datetime format to make ease\n",
    "data['inspect_dt'] = pd.to_datetime(data['inspect_dt'])\n",
    "\n",
    "#filter for pest management in 2024\n",
    "filtered_data = data[(data['description_new'].str.contains('pest management', case=False, na=False)) & (data['inspect_dt'].dt.year == 2024)]\n",
    "\n",
    "#group filtered data by zip code\n",
    "zip_counts = filtered_data.groupby('zip')['facility_name'].nunique()\n",
    "\n",
    "#find zip code with the highest count\n",
    "max_zip_count = zip_counts.idxmax()\n",
    "max_facility_count = zip_counts[max_zip_count]\n",
    "\n",
    "print(f\"The zip code with the most facilities with pest violations is {max_zip_count} with {max_facility_count} facilities.\")"
   ]
  },
  {
   "cell_type": "code",
   "execution_count": 7,
   "metadata": {},
   "outputs": [
    {
     "data": {
      "image/png": "[encoded data removed]",
      "text/plain": [
       "<Figure size 1440x576 with 1 Axes>"
      ]
     },
     "metadata": {
      "needs_background": "light"
     },
     "output_type": "display_data"
    }
   ],
   "source": [
    "import pandas as pd\n",
    "import matplotlib.pyplot as plt\n",
    "data = pd.read_csv(\"rats.csv\")\n",
    "\n",
    "#convert date column to datetime format to make easier\n",
    "data['inspect_dt'] = pd.to_datetime(data['inspect_dt'])\n",
    "\n",
    "#filter data by pest managment in 2024\n",
    "filtered_data = data[(data['description_new'].str.contains('pest management', case=False, na=False)) & (data['inspect_dt'].dt.year == 2024)]\n",
    "\n",
    "#group filtered by zip\n",
    "zip_counts = filtered_data.groupby('zip')['facility_name'].nunique()\n",
    "\n",
    "#plot\n",
    "plt.figure(figsize=(20, 8))\n",
    "zip_counts.plot(kind='bar')\n",
    "plt.title('Number of Facilities with RATS in 2024 by Zip Code')\n",
    "plt.xlabel('Zip Code')\n",
    "plt.ylabel('Number of Facilities')\n",
    "plt.xticks(rotation=45, ha='right')\n",
    "plt.tight_layout()\n",
    "plt.show()"
   ]
  },
  {
   "cell_type": "markdown",
   "metadata": {},
   "source": [
    "In conclusion we found that the neighbor hood with the most rats is oakland(15213) with 23 facilites with pest realted violations."
   ]
  },
  {
   "cell_type": "markdown",
   "metadata": {},
   "source": [
    "**Submetric 3: Safety**\n",
    "\n",
    "Lastly, in order to find out which neighborhood is the safest for the rats, we will look at a dataset displaying how many dogs are registered in each neighborhood. We want to live in a place free from potential dangers, so we will filter out data to show a ranking of the places with the least amount of dogs, to the most. One issue with this dataset is that there are many neighborhoods far away from Pittsburgh, so we will also filter the results to only include zip codes of pittsburgh neighborhoods (zip codes starting with 152)."
   ]
  },
  {
   "cell_type": "code",
   "execution_count": 17,
   "metadata": {},
   "outputs": [
    {
     "data": {
      "text/html": [
       "<div>\n",
       "<style scoped>\n",
       "    .dataframe tbody tr th:only-of-type {\n",
       "        vertical-align: middle;\n",
       "    }\n",
       "\n",
       "    .dataframe tbody tr th {\n",
       "        vertical-align: top;\n",
       "    }\n",
       "\n",
       "    .dataframe thead th {\n",
       "        text-align: right;\n",
       "    }\n",
       "</style>\n",
       "<table border=\"1\" class=\"dataframe\">\n",
       "  <thead>\n",
       "    <tr style=\"text-align: right;\">\n",
       "      <th></th>\n",
       "      <th>ZipCode</th>\n",
       "      <th>NumberOfDogs</th>\n",
       "    </tr>\n",
       "  </thead>\n",
       "  <tbody>\n",
       "    <tr>\n",
       "      <th>0</th>\n",
       "      <td>15275</td>\n",
       "      <td>2</td>\n",
       "    </tr>\n",
       "    <tr>\n",
       "      <th>1</th>\n",
       "      <td>15224</td>\n",
       "      <td>3</td>\n",
       "    </tr>\n",
       "    <tr>\n",
       "      <th>2</th>\n",
       "      <td>15222</td>\n",
       "      <td>4</td>\n",
       "    </tr>\n",
       "    <tr>\n",
       "      <th>3</th>\n",
       "      <td>15232</td>\n",
       "      <td>4</td>\n",
       "    </tr>\n",
       "    <tr>\n",
       "      <th>4</th>\n",
       "      <td>15219</td>\n",
       "      <td>4</td>\n",
       "    </tr>\n",
       "    <tr>\n",
       "      <th>5</th>\n",
       "      <td>15201</td>\n",
       "      <td>4</td>\n",
       "    </tr>\n",
       "    <tr>\n",
       "      <th>6</th>\n",
       "      <td>15208</td>\n",
       "      <td>5</td>\n",
       "    </tr>\n",
       "    <tr>\n",
       "      <th>7</th>\n",
       "      <td>15213</td>\n",
       "      <td>6</td>\n",
       "    </tr>\n",
       "    <tr>\n",
       "      <th>8</th>\n",
       "      <td>15217</td>\n",
       "      <td>7</td>\n",
       "    </tr>\n",
       "    <tr>\n",
       "      <th>9</th>\n",
       "      <td>15203</td>\n",
       "      <td>7</td>\n",
       "    </tr>\n",
       "    <tr>\n",
       "      <th>10</th>\n",
       "      <td>15211</td>\n",
       "      <td>9</td>\n",
       "    </tr>\n",
       "    <tr>\n",
       "      <th>11</th>\n",
       "      <td>15207</td>\n",
       "      <td>14</td>\n",
       "    </tr>\n",
       "    <tr>\n",
       "      <th>12</th>\n",
       "      <td>15204</td>\n",
       "      <td>14</td>\n",
       "    </tr>\n",
       "    <tr>\n",
       "      <th>13</th>\n",
       "      <td>15206</td>\n",
       "      <td>14</td>\n",
       "    </tr>\n",
       "    <tr>\n",
       "      <th>14</th>\n",
       "      <td>15225</td>\n",
       "      <td>65</td>\n",
       "    </tr>\n",
       "  </tbody>\n",
       "</table>\n",
       "</div>"
      ],
      "text/plain": [
       "    ZipCode  NumberOfDogs\n",
       "0     15275             2\n",
       "1     15224             3\n",
       "2     15222             4\n",
       "3     15232             4\n",
       "4     15219             4\n",
       "5     15201             4\n",
       "6     15208             5\n",
       "7     15213             6\n",
       "8     15217             7\n",
       "9     15203             7\n",
       "10    15211             9\n",
       "11    15207            14\n",
       "12    15204            14\n",
       "13    15206            14\n",
       "14    15225            65"
      ]
     },
     "execution_count": 17,
     "metadata": {},
     "output_type": "execute_result"
    }
   ],
   "source": [
    "import pandas as pd\n",
    "\n",
    "dog_licenses = pd.read_csv('dogs.tsv', sep='\\t')\n",
    "\n",
    "zipcode_dog_counts = dog_licenses['OwnerZip'].value_counts().reset_index()\n",
    "zipcode_dog_counts.columns = ['ZipCode', 'NumberOfDogs']\n",
    "zipcode_dog_counts_sorted = zipcode_dog_counts.sort_values(by='NumberOfDogs', ascending=False)\n",
    "\n",
    "filtered_zipcodes = zipcode_dog_counts_sorted[zipcode_dog_counts_sorted['ZipCode'].astype(str).str.startswith('152')]\n",
    "bottom_15_filtered_zipcodes = filtered_zipcodes.tail(15).sort_values(by='NumberOfDogs')\n",
    "\n",
    "bottom_15_filtered_zipcodes_sorted = bottom_15_filtered_zipcodes.sort_values(by='NumberOfDogs', ascending=True).reset_index(drop=True)\n",
    "\n",
    "bottom_15_filtered_zipcodes_sorted"
   ]
  },
  {
   "cell_type": "markdown",
   "metadata": {},
   "source": [
    "Here we can see that there are many suitable places for the rats to relax and live in peace knowing that they wont have to worry about dogs if they choose to live in this area. Looking at our ranking, we have one zipcode in the pittsburgh area which is our winner for the most rat safe neighborhood: Coraopolis Hieghts with only 2 regestered dog liscenses. "
   ]
  },
  {
   "cell_type": "markdown",
   "metadata": {},
   "source": [
    "**The Best Neighborhood**\n",
    "\n",
    "Now, we have all 3 of our submetrics displayed. We have the safest places, the places with the best housing options, and the places with the most available food. We will now combine these 3 metrics to find our true ranking of which neighborhoods are the best ones to live in as a rat.\n",
    "\n",
    "We will do this by taking our 3 submetric's rankings and then finding which zip codes have the highest average ranking between the 3 metrics. This new ranking will display which neighborhood has the highest balance between all 3 of our important values for a rat, as a neighborhood full of one sub metric will not be good if it is lacking in the other areas. To ensure a fair average ranking, we will be excluding any zipcodes that arent present in all 3 rankings."
   ]
  },
  {
   "cell_type": "code",
   "execution_count": 1,
   "metadata": {},
   "outputs": [
    {
     "data": {
      "image/png": "[encoded data removed]",
      "text/plain": [
       "<Figure size 576x432 with 1 Axes>"
      ]
     },
     "metadata": {
      "needs_background": "light"
     },
     "output_type": "display_data"
    }
   ],
   "source": [
    "import pandas as pd\n",
    "import numpy as np\n",
    "import matplotlib.pyplot as plt\n",
    "\n",
    "# Load and prep 'Condemned' dataset\n",
    "condemned_data = pd.read_csv('Condemned.tsv', delimiter='\\t')\n",
    "condemned_data['Zip Code'] = condemned_data['address'].str.extract(r'(\\d{5})$')\n",
    "total_scores = condemned_data.groupby('Zip Code')['latest_inspection_score'].sum()\n",
    "property_count = condemned_data.groupby('Zip Code').size()\n",
    "zip_analysis = pd.DataFrame({\n",
    "    'Total Score': total_scores,\n",
    "    'Property Count': property_count\n",
    "})\n",
    "zip_analysis['Average Score'] = zip_analysis['Total Score'] / zip_analysis['Property Count']\n",
    "zip_analysis = zip_analysis[zip_analysis['Property Count'] >= 75]\n",
    "zip_analysis['Rank1'] = zip_analysis['Average Score'].rank(ascending=True)\n",
    "\n",
    "# Load and prep 'rats.csv' dataset\n",
    "rats_data = pd.read_csv(\"rats.csv\")\n",
    "rats_data['inspect_dt'] = pd.to_datetime(rats_data['inspect_dt'])\n",
    "filtered_rats_data = rats_data[(rats_data['description_new'].str.contains('pest management', case=False, na=False)) &\n",
    "                               (rats_data['inspect_dt'].dt.year == 2024)]\n",
    "zip_counts = filtered_rats_data.groupby('zip')['facility_name'].nunique()\n",
    "zip_analysis_2 = pd.DataFrame({'Facility Count': zip_counts})\n",
    "zip_analysis_2['Rank2'] = zip_analysis_2['Facility Count'].rank(ascending=False)\n",
    "\n",
    "# Load and prep 'dogs.tsv' dataset\n",
    "dogs_data = pd.read_csv('dogs.tsv', sep='\\t')\n",
    "zipcode_dog_counts = dogs_data['OwnerZip'].value_counts().reset_index()\n",
    "zipcode_dog_counts.columns = ['ZipCode', 'NumberOfDogs']\n",
    "zipcode_dog_counts['Rank3'] = zipcode_dog_counts['NumberOfDogs'].rank(ascending=True)\n",
    "filtered_zipcode_dog_counts = zipcode_dog_counts[zipcode_dog_counts['ZipCode'].astype(str).str.startswith('152')].copy()\n",
    "filtered_zipcode_dog_counts.loc[:, 'ZipCode'] = filtered_zipcode_dog_counts['ZipCode'].astype(str)\n",
    "\n",
    "# Now we will merge the rankings and calculate the average rank\n",
    "zip_analysis.index = zip_analysis.index.map(str)\n",
    "zip_analysis_2.index = zip_analysis_2.index.map(str)\n",
    "combined_ranks = zip_analysis[['Rank1']].join(zip_analysis_2[['Rank2']], how='inner', rsuffix='_rats')\n",
    "combined_ranks = combined_ranks.join(filtered_zipcode_dog_counts.set_index('ZipCode')[['Rank3']], how='inner')\n",
    "combined_ranks['Average Rank'] = combined_ranks[['Rank1', 'Rank2', 'Rank3']].mean(axis=1)\n",
    "final_ranking = combined_ranks.sort_values(by='Average Rank')\n",
    "\n",
    "# Visualization time \n",
    "podium_data = final_ranking.head(3)\n",
    "\n",
    "podium_heights = [3, 2, 1]\n",
    "\n",
    "colors = ['#ffd700', '#c0c0c0', '#cd7f32']  # Gold, Silver, Bronze\n",
    "fig, ax = plt.subplots(figsize=(8, 6))\n",
    "\n",
    "for i, (zipcode, row) in enumerate(podium_data.iterrows()):\n",
    "    ax.bar(i, podium_heights[i], color=colors[i])\n",
    "    ax.text(i, podium_heights[i] - 0.3, f\"{row['Average Rank']:.2f}\", \n",
    "            ha='center', va='top', color='black', fontsize=8, fontweight='bold')\n",
    "    ax.text(i, podium_heights[i] + 0.05, zipcode, \n",
    "            ha='center', va='bottom', color='black', fontsize=10)\n",
    "\n",
    "ax.set_xticks(range(len(podium_data)))\n",
    "ax.set_xticklabels(['1st', '2nd', '3rd'])\n",
    "ax.set_title('Podium of Zip Codes with the Best Average Rank', pad=20)\n",
    "ax.set_yticks([])\n",
    "\n",
    "for spine in ax.spines.values():\n",
    "    spine.set_visible(False)\n",
    "\n",
    "plt.subplots_adjust(top=0.9, bottom=0.15)\n",
    "plt.show()"
   ]
  },
  {
   "cell_type": "markdown",
   "metadata": {},
   "source": [
    "Now, with the best average ranking across our 3 submetrics, The Central Business District is our winner for the best neighborhood in Pittsburgh for rats!\n"
   ]
  },
  {
   "cell_type": "markdown",
   "metadata": {},
   "source": [
    "**Conclusion**\n",
    "\n",
    "\"Reflect on how the data-driven determination of “best neighborhood” is the same or different from your personal favorite neighborhood. Each member of the group should write their own response to this.\""
   ]
  }
 ],
 "metadata": {
  "kernelspec": {
   "display_name": "Python 3",
   "language": "python",
   "name": "python3"
  },
  "language_info": {
   "codemirror_mode": {
    "name": "ipython",
    "version": 3
   },
   "file_extension": ".py",
   "mimetype": "text/x-python",
   "name": "python",
   "nbconvert_exporter": "python",
   "pygments_lexer": "ipython3",
   "version": "3.8.3"
  }
 },
 "nbformat": 4,
 "nbformat_minor": 4
}
