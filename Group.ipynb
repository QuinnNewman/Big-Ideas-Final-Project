{
 "cells": [
  {
   "cell_type": "markdown",
   "metadata": {},
   "source": [
    "Final Project Group 50"
   ]
  },
  {
   "cell_type": "markdown",
   "metadata": {},
   "source": [
    "**Introduction**\n",
    "\n",
    "In this project, we will be determining the best neighborhood in pittsburgh... for rats. This means that many things such as run down properties or health code violations, will be positive things to look for in our ideal neighborhood. Right from the start we decided to go with this metric, as it provides a unique and fun take on what is considered the \"best neighborhood\", we didn't even consider anything else. \n",
    "\n",
    "**The Metric**\n",
    "\n",
    "Now, what qualifies a neighborhood to be more rat friendly than the others? We decided on 3 things: The amount/quality of condemned or dead-end properties in the area, the amount of pest code violations, and the amount of dog licenses in each neighborhood. Here are the links to the datasets that we are using:\n",
    "\n",
    "- Condemned/Dead-end Properties: https://data.wprdc.org/dataset/condemned-properties/resource/0a963f26-eb4b-4325-bbbc-3ddf6a871410\n",
    "\n",
    "- Health Code Violations: https://data.wprdc.org/dataset/allegheny-county-restaurant-food-facility-inspection-violations/resource/1a1329e2-418c-4bd3-af2c-cc334e7559af\n",
    "\n",
    "- Dog Licenses in Area: https://data.wprdc.org/dataset/allegheny-county-dog-licenses/resource/ecedb5a4-4e9d-469b-8cde-2673ee48c482\n",
    "\n",
    "We chose these metrics because they represent 3 very important aspects of life for a rat. First, rats need shelter to live in and be safe. An area with many trashy properties would provide plenty of shelter for the rats to live in. Second, rats need to be able to eat food and thrive. Therefore, analyzing the amount of pest related health code violations in the local restaurants will show us where rats can live to easily grab a bite to eat. Lastly, rats need to live safely. That's why we will also be taking the amount of dog licenses into account, so we can find the best neighborhood where rats won't have to worry about being snatched up or eaten when they let their guard down. Overall, our approach to find the best possible neighborhood for rats will be whichever neighborhood has the highest average ranking between our 3 important sub-metrics. Let's begin!\n",
    "\n"
   ]
  },
  {
   "cell_type": "markdown",
   "metadata": {},
   "source": [
    "**Submetric 1: Shelter**\n",
    "\n",
    "In order to figure out which neighborhood has the best places to live for rats, we will need to find a ratio between the amount of condemned/dead-end properties and the total inspection scores which rate the severity of the property's health violation.\n",
    "\n",
    "To do that, we will find the average inspection score of the condemned properties in each neighborhood, but there is one thing we will need to take into account. Specifically, if we are going to use the average, we need to make sure that neighborhoods with few properties in general are removed from our list. This is because we can't decide that a neighborhood is the best just because it has 5 really bad properties in the whole area. The rats need places to live, and for that reason, any neighborhoods with less than 75 condemned properties are not eligible to be considered the best."
   ]
  },
  {
   "cell_type": "code",
   "execution_count": 4,
   "metadata": {},
   "outputs": [
    {
     "name": "stdout",
     "output_type": "stream",
     "text": [
      "          Total Score  Property Count  Average Score\n",
      "Zip Code                                            \n",
      "15210           866.0             537       1.612663\n",
      "15219           437.0             283       1.544170\n",
      "15224           124.0              82       1.512195\n",
      "15214           291.0             204       1.426471\n",
      "15212           555.0             411       1.350365\n",
      "15208           372.0             291       1.278351\n",
      "15206           303.0             250       1.212000\n",
      "15207           224.0             199       1.125628\n",
      "15221            90.0              80       1.125000\n",
      "15220            85.0              83       1.024096\n",
      "15204           131.0             134       0.977612\n"
     ]
    }
   ],
   "source": [
    "import pandas as pd\n",
    "data = pd.read_csv('Condemned.tsv', delimiter='\\t')\n",
    "data['Zip Code'] = data['address'].str.extract(r'(\\d{5})$')\n",
    "\n",
    "total_scores = data.groupby('Zip Code')['latest_inspection_score'].sum()\n",
    "property_count = data.groupby('Zip Code').size().sort_values(ascending=False)\n",
    "\n",
    "zip_analysis = pd.DataFrame({\n",
    "    'Total Score': total_scores,\n",
    "    'Property Count': property_count\n",
    "})\n",
    "\n",
    "min_properties = 75\n",
    "zip_analysis = zip_analysis[zip_analysis['Property Count'] >= min_properties]\n",
    "\n",
    "zip_analysis['Average Score'] = zip_analysis['Total Score'] / zip_analysis['Property Count']\n",
    "\n",
    "worst_zip = zip_analysis.sort_values(by='Average Score', ascending=False)\n",
    "print(worst_zip)"
   ]
  },
  {
   "cell_type": "markdown",
   "metadata": {},
   "source": [
    "And here we have it. The top 11 neighborhoods with the best shelter for rats are as follows:\n",
    "\n",
    "1. St. Clair \n",
    "2. Central Business District\n",
    "3. Bloomfield\n",
    "4. Perry North\n",
    "5. Perry South\n",
    "6. North Point Breeze\n",
    "7. Larimer\n",
    "8. Hazelwood\n",
    "9. Wilkinsburgh\n",
    "10. Elliot\n",
    "11. Sheraden\n",
    "\n",
    "The reason that we used the average inspection score as our submetric over other important metrics such as the total properties or the total inspection scores, is because a rat does not  have realtors telling them which available home is the best for them to live in. Therefore, under the assumption that a rat may choose a random condemned or dead-end property to live in, the most rat friendly neighborhood would be the one with the highest average inspection scores.\n",
    "\n",
    "To conclude, the neighborhood with the best shelter options for a rat to live in, is St. Clair (15210). They have the highest average inspection score of 1.6, and they also have the most places to live in general, with 537 condemned or dead-end properties."
   ]
  },
  {
   "cell_type": "markdown",
   "metadata": {},
   "source": [
    "**Submetric 2: Places to eat (you can change this label if u want just make sure it makes sense with the intro)**\n",
    "\n",
    "[yapping starts here]"
   ]
  },
  {
   "cell_type": "code",
   "execution_count": null,
   "metadata": {},
   "outputs": [],
   "source": []
  }
 ],
 "metadata": {
  "kernelspec": {
   "display_name": "Python 3",
   "language": "python",
   "name": "python3"
  },
  "language_info": {
   "codemirror_mode": {
    "name": "ipython",
    "version": 3
   },
   "file_extension": ".py",
   "mimetype": "text/x-python",
   "name": "python",
   "nbconvert_exporter": "python",
   "pygments_lexer": "ipython3",
   "version": "3.8.3"
  }
 },
 "nbformat": 4,
 "nbformat_minor": 4
}
